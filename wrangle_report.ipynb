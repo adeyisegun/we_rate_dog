{
 "cells": [
  {
   "cell_type": "markdown",
   "metadata": {},
   "source": [
    "## Reporting: wragle_report"
   ]
  },
  {
   "cell_type": "markdown",
   "metadata": {},
   "source": [
    "The wrangled dataset is the tweet archive of Twitter user @dog_rates, also known as WeRateDogs.\n",
    "Data was gathered/collected from three different sources:\n",
    "    \n",
    "    1. WeRateDogs Twitter archive\n",
    "    2. Tweet image predictions\n",
    "    3. Additional data from the Twitter API\n",
    "\n",
    "**WeRateDogs Twitter archive** - This data was downloaded [here](https://d17h27t6h515a5.cloudfront.net/topher/2017/August/59a4e958_twitter-archive-enhanced/twitter-archive-enhanced.csv) and loaded manually.\n",
    "\n",
    "**Tweet image predictions** - This data was downloaded [here](https://d17h27t6h515a5.cloudfront.net/topher/2017/August/599fd2ad_image-predictions/image-predictions.tsv) and loaded programmatically using the Requests library.\n",
    "\n",
    "**Additional data from the Twitter API** - Using the tweet IDs in the WeRateDogs Twitter archive, we query the Twitter API and gather each tweet's retweet count and favorite (\"like\") count.\n",
    "\n",
    "After gathering all three pieces of data, we asses them visually and programmatically for quality and tidiness issues. 12 quality issues was detected and 3 tidinees issues was detected. "
   ]
  },
  {
   "cell_type": "markdown",
   "metadata": {},
   "source": [
    "#### Quality issues\n",
    "`twitter achieve` Table\n",
    "\n",
    "1. Table contians retweets, we only want original ratings.\n",
    "2. Table contians tweet replies, we only want original ratings.\n",
    "3. Source column in HTML format\n",
    "4. Timestamp column is datetime not string\n",
    "5. No rating in tweet with id 810984652412424192\n",
    "6. Some tweeets have wrong ratings\n",
    "7. Some tweets have group ratings i.e tweet contains rating of a group of dogs\n",
    "8. Tweets with decimal rating not properly extracted\n",
    "9. Dognames in upper and lower case\n",
    "10. Table contains columns not useful for analysis\n",
    "11. Wrong data types for tweet_id,rating_denominator,tweet_source, and dog_stage\n",
    "\n",
    "`image predictions` Table\n",
    "\n",
    "12. Wrong data types for tweet_id\n",
    "13. Extract Dog Breed from image predictions "
   ]
  },
  {
   "cell_type": "markdown",
   "metadata": {},
   "source": [
    "#### Tidiness issues\n",
    "`twitter achieve` Table\n",
    "1. One variable in four columns (Dog Stage)\n",
    "2. Tweet data in different tables"
   ]
  },
  {
   "cell_type": "markdown",
   "metadata": {},
   "source": [
    "These issues were cleaned successfully and a copy of the original data was made befoe the cleaning. Define-code-test framework was used and documented during the the cleaning. \n",
    "Finally a tidy master dataset (all pieces of data was merged) was created. "
   ]
  }
 ],
 "metadata": {
  "kernelspec": {
   "display_name": "Python 3 (ipykernel)",
   "language": "python",
   "name": "python3"
  },
  "language_info": {
   "codemirror_mode": {
    "name": "ipython",
    "version": 3
   },
   "file_extension": ".py",
   "mimetype": "text/x-python",
   "name": "python",
   "nbconvert_exporter": "python",
   "pygments_lexer": "ipython3",
   "version": "3.9.12"
  }
 },
 "nbformat": 4,
 "nbformat_minor": 2
}

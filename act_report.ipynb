{
 "cells": [
  {
   "cell_type": "markdown",
   "metadata": {},
   "source": [
    "## Report: act_report"
   ]
  },
  {
   "cell_type": "markdown",
   "metadata": {},
   "source": [
    "Insights produced our wrangled data (master dataset) of tweet archive of Twitter user @dog_rates, also known as WeRateDogs. WeRateDogs is a Twitter account that rates people's dogs with a humorous comment about the dog."
   ]
  },
  {
   "cell_type": "markdown",
   "metadata": {},
   "source": [
    "Firstly we took a look at the boxplot dog rating (numerator) to understand the distribution of the ratings and found that we had two outliers. In this analysis we removed the outliers to get a better view of distribution, to also get stronger correlation and reduce variability."
   ]
  },
  {
   "cell_type": "markdown",
   "metadata": {},
   "source": [
    "### INSIGHTS\n",
    "\n",
    "1. Average Dog rating (numerator) - We found the mean of all the ratings in the data set and our output given to be 10.61\n",
    "\n",
    "2. Count of dog breed (top five) and thier averge rating - We used the group by function to compare the top five counts of dog breed with thier average rating. We found out that even though the Labrador_retriever had higher count, this breed had lower average rating compare to the Pembroke breed.\n",
    "\n",
    "3. Average dog rating of top 10 retweet count VS Average dog rating of top 10 favorite count - We compare the top 10 retweet count to the top 10 favorite count and found out that Average dog rating of top 10 favorite count (12.9) was higher than the Average dog rating of top 10 retweet count (12.7)"
   ]
  },
  {
   "cell_type": "markdown",
   "metadata": {},
   "source": [
    "### VISUALIZATION\n",
    "\n",
    "Finally we visuallized the distribution of the dog rating (numerator) and found out that the majority of ratings fell between 10 and 11 and the highest rating was 14 while the lowest rating was 0"
   ]
  }
 ],
 "metadata": {
  "kernelspec": {
   "display_name": "Python 3 (ipykernel)",
   "language": "python",
   "name": "python3"
  },
  "language_info": {
   "codemirror_mode": {
    "name": "ipython",
    "version": 3
   },
   "file_extension": ".py",
   "mimetype": "text/x-python",
   "name": "python",
   "nbconvert_exporter": "python",
   "pygments_lexer": "ipython3",
   "version": "3.9.12"
  }
 },
 "nbformat": 4,
 "nbformat_minor": 2
}
